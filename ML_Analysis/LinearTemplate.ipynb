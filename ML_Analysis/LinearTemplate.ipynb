{
 "cells": [
  {
   "cell_type": "code",
   "execution_count": null,
   "id": "e68f9eb2",
   "metadata": {},
   "outputs": [],
   "source": [
    "#import Dependecies\n",
    "import pandas as pd\n",
    "from pathlib import Path\n",
    "import matplotlib.pyplot as plt\n",
    "from sklearn.linear_model import LinearRegression"
   ]
  },
  {
   "cell_type": "code",
   "execution_count": null,
   "id": "ebb235d5",
   "metadata": {},
   "outputs": [],
   "source": [
    "# load in data set\n",
    "# print df head"
   ]
  },
  {
   "cell_type": "code",
   "execution_count": null,
   "id": "79f09012",
   "metadata": {},
   "outputs": [],
   "source": [
    "# choose which column to compare with win %"
   ]
  },
  {
   "cell_type": "code",
   "execution_count": null,
   "id": "ad6980bb",
   "metadata": {},
   "outputs": [],
   "source": [
    "# plot data\n",
    "# plt.scatter(df.OBP, df.win%)\n",
    "# plt labels\n",
    "# plt.show()"
   ]
  },
  {
   "cell_type": "code",
   "execution_count": null,
   "id": "5f376416",
   "metadata": {},
   "outputs": [],
   "source": [
    "# reshape data\n",
    "# X = df.OBP.values.reshape(-1,1)"
   ]
  },
  {
   "cell_type": "code",
   "execution_count": null,
   "id": "0b8df144",
   "metadata": {},
   "outputs": [],
   "source": [
    "# Examine first 5 rows to see the data reshaped\n",
    "# X[:5]"
   ]
  },
  {
   "cell_type": "code",
   "execution_count": null,
   "id": "f69a96bd",
   "metadata": {},
   "outputs": [],
   "source": [
    "# examine shape of new X values\n",
    "# X.shape"
   ]
  },
  {
   "cell_type": "code",
   "execution_count": null,
   "id": "a40e5c89",
   "metadata": {},
   "outputs": [],
   "source": [
    "# Assign target value to win %\n",
    "# y = df.win%"
   ]
  },
  {
   "cell_type": "code",
   "execution_count": null,
   "id": "15d5d074",
   "metadata": {},
   "outputs": [],
   "source": [
    "# create linear regression model\n",
    "# model = LinearRegression()"
   ]
  },
  {
   "cell_type": "code",
   "execution_count": null,
   "id": "beba1873",
   "metadata": {},
   "outputs": [],
   "source": [
    "# fit the data so model will learn\n",
    "# model.fit(X, y)"
   ]
  },
  {
   "cell_type": "code",
   "execution_count": null,
   "id": "823616f2",
   "metadata": {},
   "outputs": [],
   "source": [
    "# Create predicted y values\n",
    "# y_pred = model.predict(X)\n",
    "\n",
    "# print shape of y_pred\n",
    "# print(y_pred.shape)"
   ]
  },
  {
   "cell_type": "code",
   "execution_count": null,
   "id": "f0d33a0c",
   "metadata": {},
   "outputs": [],
   "source": [
    "# plot data vs model\n",
    "# plt.scatter(X, y)\n",
    "# plt.plot(X, y_pred, color='red')\n",
    "# plt.show()"
   ]
  },
  {
   "cell_type": "code",
   "execution_count": null,
   "id": "bd09a330",
   "metadata": {},
   "outputs": [],
   "source": [
    "# print slope and y-intercept\n",
    "# print(model.coef_)\n",
    "# print(model.intercept_)"
   ]
  },
  {
   "cell_type": "code",
   "execution_count": null,
   "id": "f1c50d6e",
   "metadata": {},
   "outputs": [],
   "source": [
    "# print linear model (y = mx +b)"
   ]
  },
  {
   "cell_type": "code",
   "execution_count": null,
   "id": "384cbf17",
   "metadata": {},
   "outputs": [],
   "source": [
    "# repeat these steps for diffeent data columns"
   ]
  }
 ],
 "metadata": {
  "kernelspec": {
   "display_name": "Python 3 (ipykernel)",
   "language": "python",
   "name": "python3"
  },
  "language_info": {
   "codemirror_mode": {
    "name": "ipython",
    "version": 3
   },
   "file_extension": ".py",
   "mimetype": "text/x-python",
   "name": "python",
   "nbconvert_exporter": "python",
   "pygments_lexer": "ipython3",
   "version": "3.9.12"
  }
 },
 "nbformat": 4,
 "nbformat_minor": 5
}
