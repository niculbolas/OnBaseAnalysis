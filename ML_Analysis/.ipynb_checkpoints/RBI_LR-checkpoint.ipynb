{
 "cells": [
  {
   "cell_type": "code",
   "execution_count": 1,
   "id": "e68f9eb2",
   "metadata": {},
   "outputs": [],
   "source": [
    "#import Dependecies\n",
    "import pandas as pd\n",
    "from pathlib import Path\n",
    "import matplotlib.pyplot as plt\n",
    "from sklearn.linear_model import LinearRegression"
   ]
  },
  {
   "cell_type": "code",
   "execution_count": 2,
   "id": "ebb235d5",
   "metadata": {},
   "outputs": [
    {
     "data": {
      "text/html": [
       "<div>\n",
       "<style scoped>\n",
       "    .dataframe tbody tr th:only-of-type {\n",
       "        vertical-align: middle;\n",
       "    }\n",
       "\n",
       "    .dataframe tbody tr th {\n",
       "        vertical-align: top;\n",
       "    }\n",
       "\n",
       "    .dataframe thead th {\n",
       "        text-align: right;\n",
       "    }\n",
       "</style>\n",
       "<table border=\"1\" class=\"dataframe\">\n",
       "  <thead>\n",
       "    <tr style=\"text-align: right;\">\n",
       "      <th></th>\n",
       "      <th>teamsbyyear</th>\n",
       "      <th>games_played</th>\n",
       "      <th>win_percentage</th>\n",
       "      <th>homeruns</th>\n",
       "      <th>rbi</th>\n",
       "      <th>iso</th>\n",
       "      <th>babip</th>\n",
       "      <th>avg</th>\n",
       "      <th>obp</th>\n",
       "      <th>slg</th>\n",
       "      <th>woba</th>\n",
       "      <th>wrc</th>\n",
       "      <th>war</th>\n",
       "    </tr>\n",
       "  </thead>\n",
       "  <tbody>\n",
       "    <tr>\n",
       "      <th>0</th>\n",
       "      <td>2022LAD</td>\n",
       "      <td>162</td>\n",
       "      <td>0.69</td>\n",
       "      <td>212</td>\n",
       "      <td>812</td>\n",
       "      <td>0.185</td>\n",
       "      <td>0.302</td>\n",
       "      <td>0.257</td>\n",
       "      <td>0.333</td>\n",
       "      <td>0.442</td>\n",
       "      <td>0.337</td>\n",
       "      <td>119</td>\n",
       "      <td>38.9</td>\n",
       "    </tr>\n",
       "    <tr>\n",
       "      <th>1</th>\n",
       "      <td>2022NYY</td>\n",
       "      <td>162</td>\n",
       "      <td>0.61</td>\n",
       "      <td>254</td>\n",
       "      <td>764</td>\n",
       "      <td>0.185</td>\n",
       "      <td>0.276</td>\n",
       "      <td>0.241</td>\n",
       "      <td>0.325</td>\n",
       "      <td>0.426</td>\n",
       "      <td>0.327</td>\n",
       "      <td>115</td>\n",
       "      <td>35.1</td>\n",
       "    </tr>\n",
       "    <tr>\n",
       "      <th>2</th>\n",
       "      <td>2022STL</td>\n",
       "      <td>162</td>\n",
       "      <td>0.57</td>\n",
       "      <td>197</td>\n",
       "      <td>739</td>\n",
       "      <td>0.168</td>\n",
       "      <td>0.289</td>\n",
       "      <td>0.252</td>\n",
       "      <td>0.325</td>\n",
       "      <td>0.420</td>\n",
       "      <td>0.326</td>\n",
       "      <td>114</td>\n",
       "      <td>32.8</td>\n",
       "    </tr>\n",
       "    <tr>\n",
       "      <th>3</th>\n",
       "      <td>2022NYM</td>\n",
       "      <td>162</td>\n",
       "      <td>0.62</td>\n",
       "      <td>171</td>\n",
       "      <td>735</td>\n",
       "      <td>0.153</td>\n",
       "      <td>0.302</td>\n",
       "      <td>0.259</td>\n",
       "      <td>0.332</td>\n",
       "      <td>0.412</td>\n",
       "      <td>0.326</td>\n",
       "      <td>116</td>\n",
       "      <td>31.3</td>\n",
       "    </tr>\n",
       "    <tr>\n",
       "      <th>4</th>\n",
       "      <td>2022TOR</td>\n",
       "      <td>162</td>\n",
       "      <td>0.57</td>\n",
       "      <td>200</td>\n",
       "      <td>756</td>\n",
       "      <td>0.168</td>\n",
       "      <td>0.305</td>\n",
       "      <td>0.264</td>\n",
       "      <td>0.329</td>\n",
       "      <td>0.431</td>\n",
       "      <td>0.331</td>\n",
       "      <td>117</td>\n",
       "      <td>31.1</td>\n",
       "    </tr>\n",
       "  </tbody>\n",
       "</table>\n",
       "</div>"
      ],
      "text/plain": [
       "  teamsbyyear  games_played  win_percentage  homeruns  rbi    iso  babip  \\\n",
       "0     2022LAD           162            0.69       212  812  0.185  0.302   \n",
       "1     2022NYY           162            0.61       254  764  0.185  0.276   \n",
       "2     2022STL           162            0.57       197  739  0.168  0.289   \n",
       "3     2022NYM           162            0.62       171  735  0.153  0.302   \n",
       "4     2022TOR           162            0.57       200  756  0.168  0.305   \n",
       "\n",
       "     avg    obp    slg   woba  wrc   war  \n",
       "0  0.257  0.333  0.442  0.337  119  38.9  \n",
       "1  0.241  0.325  0.426  0.327  115  35.1  \n",
       "2  0.252  0.325  0.420  0.326  114  32.8  \n",
       "3  0.259  0.332  0.412  0.326  116  31.3  \n",
       "4  0.264  0.329  0.431  0.331  117  31.1  "
      ]
     },
     "execution_count": 2,
     "metadata": {},
     "output_type": "execute_result"
    }
   ],
   "source": [
    "# load in data set\n",
    "df = pd.read_csv(Path('../Data/teamdata_sql.csv'))\n",
    "\n",
    "# print df head\n",
    "df.head()"
   ]
  },
  {
   "cell_type": "code",
   "execution_count": 3,
   "id": "79f09012",
   "metadata": {},
   "outputs": [],
   "source": [
    "# choose which column to compare with win %\n",
    "# Runs batted in (RBI)\n"
   ]
  },
  {
   "cell_type": "code",
   "execution_count": 4,
   "id": "ad6980bb",
   "metadata": {},
   "outputs": [
    {
     "data": {
      "image/png": "[encoded data removed]",
      "text/plain": [
       "<Figure size 432x288 with 1 Axes>"
      ]
     },
     "metadata": {
      "needs_background": "light"
     },
     "output_type": "display_data"
    }
   ],
   "source": [
    "# plot data\n",
    "plt.scatter(df.rbi, df.win_percentage)\n",
    "plt.xlabel('Runs Batted in')\n",
    "plt.ylabel('Win Percentage')\n",
    "plt.show()"
   ]
  },
  {
   "cell_type": "code",
   "execution_count": 5,
   "id": "5f376416",
   "metadata": {},
   "outputs": [],
   "source": [
    "# reshape data\n",
    "X = df.rbi.values.reshape(-1,1)"
   ]
  },
  {
   "cell_type": "code",
   "execution_count": 6,
   "id": "0b8df144",
   "metadata": {},
   "outputs": [
    {
     "data": {
      "text/plain": [
       "array([[812],\n",
       "       [764],\n",
       "       [739],\n",
       "       [735],\n",
       "       [756]], dtype=int64)"
      ]
     },
     "execution_count": 6,
     "metadata": {},
     "output_type": "execute_result"
    }
   ],
   "source": [
    "# Examine first 5 rows to see the data reshaped\n",
    "X[:5]"
   ]
  },
  {
   "cell_type": "code",
   "execution_count": 7,
   "id": "f69a96bd",
   "metadata": {},
   "outputs": [
    {
     "data": {
      "text/plain": [
       "(446, 1)"
      ]
     },
     "execution_count": 7,
     "metadata": {},
     "output_type": "execute_result"
    }
   ],
   "source": [
    "# examine shape of new X values\n",
    "X.shape"
   ]
  },
  {
   "cell_type": "code",
   "execution_count": 8,
   "id": "a40e5c89",
   "metadata": {},
   "outputs": [],
   "source": [
    "# Assign target value to win %\n",
    "y = df.win_percentage"
   ]
  },
  {
   "cell_type": "code",
   "execution_count": 9,
   "id": "15d5d074",
   "metadata": {},
   "outputs": [],
   "source": [
    "# create linear regression model\n",
    "model = LinearRegression()"
   ]
  },
  {
   "cell_type": "code",
   "execution_count": 10,
   "id": "beba1873",
   "metadata": {},
   "outputs": [
    {
     "data": {
      "text/plain": [
       "LinearRegression()"
      ]
     },
     "execution_count": 10,
     "metadata": {},
     "output_type": "execute_result"
    }
   ],
   "source": [
    "# fit the data so model will learn\n",
    "model.fit(X, y)"
   ]
  },
  {
   "cell_type": "code",
   "execution_count": 11,
   "id": "823616f2",
   "metadata": {},
   "outputs": [
    {
     "name": "stdout",
     "output_type": "stream",
     "text": [
      "(446,)\n"
     ]
    }
   ],
   "source": [
    "# Create predicted y values\n",
    "y_pred = model.predict(X)\n",
    "\n",
    "# print shape of y_pred\n",
    "print(y_pred.shape)"
   ]
  },
  {
   "cell_type": "code",
   "execution_count": 12,
   "id": "f0d33a0c",
   "metadata": {},
   "outputs": [
    {
     "data": {
      "image/png": "[encoded data removed]",
      "text/plain": [
       "<Figure size 432x288 with 1 Axes>"
      ]
     },
     "metadata": {
      "needs_background": "light"
     },
     "output_type": "display_data"
    }
   ],
   "source": [
    "# plot data vs model\n",
    "plt.scatter(X, y)\n",
    "plt.plot(X, y_pred, color='red')\n",
    "plt.title(\"RBI vs. Win %\")\n",
    "plt.xlabel('Runs Batted in')\n",
    "plt.ylabel('Win Percentage')\n",
    "plt.show()"
   ]
  },
  {
   "cell_type": "code",
   "execution_count": 13,
   "id": "bd09a330",
   "metadata": {},
   "outputs": [
    {
     "name": "stdout",
     "output_type": "stream",
     "text": [
      "[0.00019375]\n",
      "0.3720774155332871\n"
     ]
    }
   ],
   "source": [
    "# print slope and y-intercept\n",
    "print(model.coef_)\n",
    "print(model.intercept_)"
   ]
  },
  {
   "cell_type": "code",
   "execution_count": 14,
   "id": "f1c50d6e",
   "metadata": {},
   "outputs": [
    {
     "name": "stdout",
     "output_type": "stream",
     "text": [
      "y = [0.00019375]x + 0.3720774155332871\n"
     ]
    }
   ],
   "source": [
    "# print linear model (y = mx +b)\n",
    "print(f\"y = {model.coef_}x + {model.intercept_}\")"
   ]
  },
  {
   "cell_type": "code",
   "execution_count": 15,
   "id": "384cbf17",
   "metadata": {},
   "outputs": [],
   "source": [
    "# repeat these steps for diffeent data columns"
   ]
  },
  {
   "cell_type": "code",
   "execution_count": null,
   "id": "d8529390",
   "metadata": {},
   "outputs": [],
   "source": []
  }
 ],
 "metadata": {
  "kernelspec": {
   "display_name": "Python 3 (ipykernel)",
   "language": "python",
   "name": "python3"
  },
  "language_info": {
   "codemirror_mode": {
    "name": "ipython",
    "version": 3
   },
   "file_extension": ".py",
   "mimetype": "text/x-python",
   "name": "python",
   "nbconvert_exporter": "python",
   "pygments_lexer": "ipython3",
   "version": "3.9.12"
  }
 },
 "nbformat": 4,
 "nbformat_minor": 5
}
